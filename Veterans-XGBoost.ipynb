{
 "cells": [
  {
   "cell_type": "code",
   "execution_count": 1,
   "metadata": {
    "collapsed": true
   },
   "outputs": [],
   "source": [
    "import pandas as pd\n",
    "from sklearn.preprocessing import MinMaxScaler\n",
    "from sklearn.feature_selection import VarianceThreshold\n",
    "from sklearn.linear_model import LogisticRegression\n",
    "from sklearn.model_selection import train_test_split\n",
    "from sklearn.model_selection import cross_val_predict,cross_val_score\n",
    "from sklearn import model_selection\n",
    "from sklearn.model_selection import KFold\n",
    "import numpy as np\n",
    "import matplotlib.pyplot as plt\n",
    "from sklearn.model_selection import GridSearchCV\n",
    "from sklearn.pipeline import Pipeline,make_pipeline\n",
    "from sklearn.metrics import roc_auc_score\n",
    "from sklearn.ensemble import RandomForestClassifier\n",
    "from sklearn.preprocessing import Imputer\n",
    "from sklearn.base import TransformerMixin\n",
    "from xgboost import XGBClassifier\n",
    "from xgboost import plot_importance\n",
    "from sklearn.metrics import roc_curve"
   ]
  },
  {
   "cell_type": "code",
   "execution_count": 2,
   "metadata": {
    "collapsed": false
   },
   "outputs": [
    {
     "name": "stderr",
     "output_type": "stream",
     "text": [
      "/home/kodolamacz/anaconda3/lib/python3.6/site-packages/IPython/core/interactiveshell.py:2717: DtypeWarning: Columns (9,12) have mixed types. Specify dtype option on import or set low_memory=False.\n",
      "  interactivity=interactivity, compiler=compiler, result=result)\n"
     ]
    }
   ],
   "source": [
    "data = pd.read_csv('Data/veterans.csv',index_col=0)"
   ]
  },
  {
   "cell_type": "code",
   "execution_count": 3,
   "metadata": {
    "collapsed": false
   },
   "outputs": [
    {
     "data": {
      "text/plain": [
       "(50127, 481)"
      ]
     },
     "execution_count": 3,
     "metadata": {},
     "output_type": "execute_result"
    }
   ],
   "source": [
    "data.shape"
   ]
  },
  {
   "cell_type": "code",
   "execution_count": 4,
   "metadata": {
    "collapsed": false
   },
   "outputs": [
    {
     "data": {
      "text/html": [
       "<div>\n",
       "<table border=\"1\" class=\"dataframe\">\n",
       "  <thead>\n",
       "    <tr style=\"text-align: right;\">\n",
       "      <th></th>\n",
       "      <th>ODATEDW</th>\n",
       "      <th>OSOURCE</th>\n",
       "      <th>TCODE</th>\n",
       "      <th>STATE</th>\n",
       "      <th>ZIP</th>\n",
       "      <th>MAILCODE</th>\n",
       "      <th>PVASTATE</th>\n",
       "      <th>DOB</th>\n",
       "      <th>NOEXCH</th>\n",
       "      <th>RECINHSE</th>\n",
       "      <th>...</th>\n",
       "      <th>TARGET_D</th>\n",
       "      <th>HPHONE_D</th>\n",
       "      <th>RFA_2R</th>\n",
       "      <th>RFA_2F</th>\n",
       "      <th>RFA_2A</th>\n",
       "      <th>MDMAUD_R</th>\n",
       "      <th>MDMAUD_F</th>\n",
       "      <th>MDMAUD_A</th>\n",
       "      <th>CLUSTER2</th>\n",
       "      <th>GEOCODE2</th>\n",
       "    </tr>\n",
       "  </thead>\n",
       "  <tbody>\n",
       "    <tr>\n",
       "      <th>0</th>\n",
       "      <td>8901</td>\n",
       "      <td>ADM</td>\n",
       "      <td>0</td>\n",
       "      <td>CA</td>\n",
       "      <td>92375</td>\n",
       "      <td>NaN</td>\n",
       "      <td>NaN</td>\n",
       "      <td>5401</td>\n",
       "      <td>0</td>\n",
       "      <td>NaN</td>\n",
       "      <td>...</td>\n",
       "      <td>0.0</td>\n",
       "      <td>0</td>\n",
       "      <td>L</td>\n",
       "      <td>2</td>\n",
       "      <td>F</td>\n",
       "      <td>X</td>\n",
       "      <td>X</td>\n",
       "      <td>X</td>\n",
       "      <td>24.0</td>\n",
       "      <td>A</td>\n",
       "    </tr>\n",
       "    <tr>\n",
       "      <th>1</th>\n",
       "      <td>9401</td>\n",
       "      <td>MBC</td>\n",
       "      <td>0</td>\n",
       "      <td>MI</td>\n",
       "      <td>49453</td>\n",
       "      <td>NaN</td>\n",
       "      <td>NaN</td>\n",
       "      <td>5801</td>\n",
       "      <td>0</td>\n",
       "      <td>NaN</td>\n",
       "      <td>...</td>\n",
       "      <td>0.0</td>\n",
       "      <td>1</td>\n",
       "      <td>L</td>\n",
       "      <td>2</td>\n",
       "      <td>F</td>\n",
       "      <td>X</td>\n",
       "      <td>X</td>\n",
       "      <td>X</td>\n",
       "      <td>42.0</td>\n",
       "      <td>C</td>\n",
       "    </tr>\n",
       "    <tr>\n",
       "      <th>2</th>\n",
       "      <td>8601</td>\n",
       "      <td>BHG</td>\n",
       "      <td>2</td>\n",
       "      <td>CA</td>\n",
       "      <td>94070</td>\n",
       "      <td>NaN</td>\n",
       "      <td>NaN</td>\n",
       "      <td>4105</td>\n",
       "      <td>0</td>\n",
       "      <td>NaN</td>\n",
       "      <td>...</td>\n",
       "      <td>0.0</td>\n",
       "      <td>1</td>\n",
       "      <td>L</td>\n",
       "      <td>1</td>\n",
       "      <td>G</td>\n",
       "      <td>X</td>\n",
       "      <td>X</td>\n",
       "      <td>X</td>\n",
       "      <td>7.0</td>\n",
       "      <td>A</td>\n",
       "    </tr>\n",
       "    <tr>\n",
       "      <th>3</th>\n",
       "      <td>8601</td>\n",
       "      <td>BHG</td>\n",
       "      <td>0</td>\n",
       "      <td>WI</td>\n",
       "      <td>54880</td>\n",
       "      <td>NaN</td>\n",
       "      <td>NaN</td>\n",
       "      <td>0</td>\n",
       "      <td>0</td>\n",
       "      <td>NaN</td>\n",
       "      <td>...</td>\n",
       "      <td>12.0</td>\n",
       "      <td>0</td>\n",
       "      <td>L</td>\n",
       "      <td>3</td>\n",
       "      <td>D</td>\n",
       "      <td>X</td>\n",
       "      <td>X</td>\n",
       "      <td>X</td>\n",
       "      <td>49.0</td>\n",
       "      <td>B</td>\n",
       "    </tr>\n",
       "    <tr>\n",
       "      <th>4</th>\n",
       "      <td>9201</td>\n",
       "      <td>ESN</td>\n",
       "      <td>0</td>\n",
       "      <td>IL</td>\n",
       "      <td>60162</td>\n",
       "      <td>NaN</td>\n",
       "      <td>NaN</td>\n",
       "      <td>2110</td>\n",
       "      <td>0</td>\n",
       "      <td>NaN</td>\n",
       "      <td>...</td>\n",
       "      <td>0.0</td>\n",
       "      <td>1</td>\n",
       "      <td>L</td>\n",
       "      <td>1</td>\n",
       "      <td>G</td>\n",
       "      <td>X</td>\n",
       "      <td>X</td>\n",
       "      <td>X</td>\n",
       "      <td>13.0</td>\n",
       "      <td>A</td>\n",
       "    </tr>\n",
       "  </tbody>\n",
       "</table>\n",
       "<p>5 rows × 481 columns</p>\n",
       "</div>"
      ],
      "text/plain": [
       "   ODATEDW OSOURCE  TCODE STATE    ZIP MAILCODE PVASTATE   DOB NOEXCH  \\\n",
       "0     8901     ADM      0    CA  92375      NaN      NaN  5401      0   \n",
       "1     9401     MBC      0    MI  49453      NaN      NaN  5801      0   \n",
       "2     8601     BHG      2    CA  94070      NaN      NaN  4105      0   \n",
       "3     8601     BHG      0    WI  54880      NaN      NaN     0      0   \n",
       "4     9201     ESN      0    IL  60162      NaN      NaN  2110      0   \n",
       "\n",
       "  RECINHSE   ...    TARGET_D HPHONE_D RFA_2R RFA_2F RFA_2A  MDMAUD_R  \\\n",
       "0      NaN   ...         0.0        0      L      2      F         X   \n",
       "1      NaN   ...         0.0        1      L      2      F         X   \n",
       "2      NaN   ...         0.0        1      L      1      G         X   \n",
       "3      NaN   ...        12.0        0      L      3      D         X   \n",
       "4      NaN   ...         0.0        1      L      1      G         X   \n",
       "\n",
       "   MDMAUD_F MDMAUD_A CLUSTER2 GEOCODE2  \n",
       "0         X        X     24.0        A  \n",
       "1         X        X     42.0        C  \n",
       "2         X        X      7.0        A  \n",
       "3         X        X     49.0        B  \n",
       "4         X        X     13.0        A  \n",
       "\n",
       "[5 rows x 481 columns]"
      ]
     },
     "execution_count": 4,
     "metadata": {},
     "output_type": "execute_result"
    }
   ],
   "source": [
    "data.head()"
   ]
  },
  {
   "cell_type": "code",
   "execution_count": 5,
   "metadata": {
    "collapsed": false
   },
   "outputs": [
    {
     "data": {
      "text/plain": [
       "0.09661459891874638"
      ]
     },
     "execution_count": 5,
     "metadata": {},
     "output_type": "execute_result"
    }
   ],
   "source": [
    "data[\"TARGET_B\"].mean()"
   ]
  },
  {
   "cell_type": "code",
   "execution_count": 6,
   "metadata": {
    "collapsed": false
   },
   "outputs": [
    {
     "data": {
      "text/html": [
       "<div>\n",
       "<table border=\"1\" class=\"dataframe\">\n",
       "  <thead>\n",
       "    <tr style=\"text-align: right;\">\n",
       "      <th></th>\n",
       "      <th>ODATEDW</th>\n",
       "      <th>TCODE</th>\n",
       "      <th>DOB</th>\n",
       "      <th>CLUSTER</th>\n",
       "      <th>AGE</th>\n",
       "      <th>NUMCHLD</th>\n",
       "      <th>INCOME</th>\n",
       "      <th>WEALTH1</th>\n",
       "      <th>HIT</th>\n",
       "      <th>MBCRAFT</th>\n",
       "      <th>...</th>\n",
       "      <th>FISTDATE</th>\n",
       "      <th>NEXTDATE</th>\n",
       "      <th>TIMELAG</th>\n",
       "      <th>AVGGIFT</th>\n",
       "      <th>CONTROLN</th>\n",
       "      <th>TARGET_B</th>\n",
       "      <th>TARGET_D</th>\n",
       "      <th>HPHONE_D</th>\n",
       "      <th>RFA_2F</th>\n",
       "      <th>CLUSTER2</th>\n",
       "    </tr>\n",
       "  </thead>\n",
       "  <tbody>\n",
       "    <tr>\n",
       "      <th>count</th>\n",
       "      <td>50127.000000</td>\n",
       "      <td>50127.000000</td>\n",
       "      <td>50127.000000</td>\n",
       "      <td>48876.000000</td>\n",
       "      <td>37667.000000</td>\n",
       "      <td>6453.000000</td>\n",
       "      <td>38957.000000</td>\n",
       "      <td>26582.000000</td>\n",
       "      <td>50127.000000</td>\n",
       "      <td>22332.000000</td>\n",
       "      <td>...</td>\n",
       "      <td>50127.000000</td>\n",
       "      <td>44927.000000</td>\n",
       "      <td>44927.000000</td>\n",
       "      <td>50127.000000</td>\n",
       "      <td>50127.000000</td>\n",
       "      <td>50127.000000</td>\n",
       "      <td>50127.000000</td>\n",
       "      <td>50127.000000</td>\n",
       "      <td>50127.000000</td>\n",
       "      <td>50058.000000</td>\n",
       "    </tr>\n",
       "    <tr>\n",
       "      <th>mean</th>\n",
       "      <td>9139.907216</td>\n",
       "      <td>57.724619</td>\n",
       "      <td>2714.593433</td>\n",
       "      <td>27.939582</td>\n",
       "      <td>61.704755</td>\n",
       "      <td>1.522858</td>\n",
       "      <td>3.886413</td>\n",
       "      <td>5.344594</td>\n",
       "      <td>3.343488</td>\n",
       "      <td>0.153770</td>\n",
       "      <td>...</td>\n",
       "      <td>9134.159056</td>\n",
       "      <td>9149.866361</td>\n",
       "      <td>8.084404</td>\n",
       "      <td>13.324361</td>\n",
       "      <td>96028.055379</td>\n",
       "      <td>0.096615</td>\n",
       "      <td>1.509540</td>\n",
       "      <td>0.498534</td>\n",
       "      <td>1.922218</td>\n",
       "      <td>31.452435</td>\n",
       "    </tr>\n",
       "    <tr>\n",
       "      <th>std</th>\n",
       "      <td>344.131103</td>\n",
       "      <td>1004.773818</td>\n",
       "      <td>2126.546961</td>\n",
       "      <td>14.427123</td>\n",
       "      <td>16.610663</td>\n",
       "      <td>0.798118</td>\n",
       "      <td>1.854805</td>\n",
       "      <td>2.749321</td>\n",
       "      <td>9.494545</td>\n",
       "      <td>0.472899</td>\n",
       "      <td>...</td>\n",
       "      <td>320.188790</td>\n",
       "      <td>294.195865</td>\n",
       "      <td>8.124036</td>\n",
       "      <td>11.119029</td>\n",
       "      <td>55407.293794</td>\n",
       "      <td>0.295435</td>\n",
       "      <td>6.022317</td>\n",
       "      <td>0.500003</td>\n",
       "      <td>1.078158</td>\n",
       "      <td>18.784004</td>\n",
       "    </tr>\n",
       "    <tr>\n",
       "      <th>min</th>\n",
       "      <td>8501.000000</td>\n",
       "      <td>0.000000</td>\n",
       "      <td>0.000000</td>\n",
       "      <td>1.000000</td>\n",
       "      <td>1.000000</td>\n",
       "      <td>1.000000</td>\n",
       "      <td>1.000000</td>\n",
       "      <td>0.000000</td>\n",
       "      <td>0.000000</td>\n",
       "      <td>0.000000</td>\n",
       "      <td>...</td>\n",
       "      <td>0.000000</td>\n",
       "      <td>7703.000000</td>\n",
       "      <td>0.000000</td>\n",
       "      <td>1.285714</td>\n",
       "      <td>5.000000</td>\n",
       "      <td>0.000000</td>\n",
       "      <td>0.000000</td>\n",
       "      <td>0.000000</td>\n",
       "      <td>1.000000</td>\n",
       "      <td>1.000000</td>\n",
       "    </tr>\n",
       "    <tr>\n",
       "      <th>25%</th>\n",
       "      <td>8801.000000</td>\n",
       "      <td>0.000000</td>\n",
       "      <td>109.500000</td>\n",
       "      <td>15.000000</td>\n",
       "      <td>48.000000</td>\n",
       "      <td>1.000000</td>\n",
       "      <td>2.000000</td>\n",
       "      <td>3.000000</td>\n",
       "      <td>0.000000</td>\n",
       "      <td>0.000000</td>\n",
       "      <td>...</td>\n",
       "      <td>8810.000000</td>\n",
       "      <td>8903.000000</td>\n",
       "      <td>4.000000</td>\n",
       "      <td>8.333333</td>\n",
       "      <td>48008.500000</td>\n",
       "      <td>0.000000</td>\n",
       "      <td>0.000000</td>\n",
       "      <td>0.000000</td>\n",
       "      <td>1.000000</td>\n",
       "      <td>14.000000</td>\n",
       "    </tr>\n",
       "    <tr>\n",
       "      <th>50%</th>\n",
       "      <td>9201.000000</td>\n",
       "      <td>1.000000</td>\n",
       "      <td>2608.000000</td>\n",
       "      <td>28.000000</td>\n",
       "      <td>62.000000</td>\n",
       "      <td>1.000000</td>\n",
       "      <td>4.000000</td>\n",
       "      <td>6.000000</td>\n",
       "      <td>0.000000</td>\n",
       "      <td>0.000000</td>\n",
       "      <td>...</td>\n",
       "      <td>9201.000000</td>\n",
       "      <td>9203.000000</td>\n",
       "      <td>6.000000</td>\n",
       "      <td>11.571429</td>\n",
       "      <td>96093.000000</td>\n",
       "      <td>0.000000</td>\n",
       "      <td>0.000000</td>\n",
       "      <td>0.000000</td>\n",
       "      <td>2.000000</td>\n",
       "      <td>32.000000</td>\n",
       "    </tr>\n",
       "    <tr>\n",
       "      <th>75%</th>\n",
       "      <td>9501.000000</td>\n",
       "      <td>2.000000</td>\n",
       "      <td>4502.000000</td>\n",
       "      <td>40.000000</td>\n",
       "      <td>75.000000</td>\n",
       "      <td>2.000000</td>\n",
       "      <td>5.000000</td>\n",
       "      <td>8.000000</td>\n",
       "      <td>3.000000</td>\n",
       "      <td>0.000000</td>\n",
       "      <td>...</td>\n",
       "      <td>9409.000000</td>\n",
       "      <td>9409.000000</td>\n",
       "      <td>11.000000</td>\n",
       "      <td>15.428571</td>\n",
       "      <td>144165.500000</td>\n",
       "      <td>0.000000</td>\n",
       "      <td>0.000000</td>\n",
       "      <td>1.000000</td>\n",
       "      <td>3.000000</td>\n",
       "      <td>49.000000</td>\n",
       "    </tr>\n",
       "    <tr>\n",
       "      <th>max</th>\n",
       "      <td>9701.000000</td>\n",
       "      <td>72002.000000</td>\n",
       "      <td>9710.000000</td>\n",
       "      <td>53.000000</td>\n",
       "      <td>98.000000</td>\n",
       "      <td>6.000000</td>\n",
       "      <td>7.000000</td>\n",
       "      <td>9.000000</td>\n",
       "      <td>241.000000</td>\n",
       "      <td>6.000000</td>\n",
       "      <td>...</td>\n",
       "      <td>9603.000000</td>\n",
       "      <td>9702.000000</td>\n",
       "      <td>1088.000000</td>\n",
       "      <td>948.500000</td>\n",
       "      <td>191779.000000</td>\n",
       "      <td>1.000000</td>\n",
       "      <td>200.000000</td>\n",
       "      <td>1.000000</td>\n",
       "      <td>4.000000</td>\n",
       "      <td>62.000000</td>\n",
       "    </tr>\n",
       "  </tbody>\n",
       "</table>\n",
       "<p>8 rows × 413 columns</p>\n",
       "</div>"
      ],
      "text/plain": [
       "            ODATEDW         TCODE           DOB       CLUSTER           AGE  \\\n",
       "count  50127.000000  50127.000000  50127.000000  48876.000000  37667.000000   \n",
       "mean    9139.907216     57.724619   2714.593433     27.939582     61.704755   \n",
       "std      344.131103   1004.773818   2126.546961     14.427123     16.610663   \n",
       "min     8501.000000      0.000000      0.000000      1.000000      1.000000   \n",
       "25%     8801.000000      0.000000    109.500000     15.000000     48.000000   \n",
       "50%     9201.000000      1.000000   2608.000000     28.000000     62.000000   \n",
       "75%     9501.000000      2.000000   4502.000000     40.000000     75.000000   \n",
       "max     9701.000000  72002.000000   9710.000000     53.000000     98.000000   \n",
       "\n",
       "           NUMCHLD        INCOME       WEALTH1           HIT       MBCRAFT  \\\n",
       "count  6453.000000  38957.000000  26582.000000  50127.000000  22332.000000   \n",
       "mean      1.522858      3.886413      5.344594      3.343488      0.153770   \n",
       "std       0.798118      1.854805      2.749321      9.494545      0.472899   \n",
       "min       1.000000      1.000000      0.000000      0.000000      0.000000   \n",
       "25%       1.000000      2.000000      3.000000      0.000000      0.000000   \n",
       "50%       1.000000      4.000000      6.000000      0.000000      0.000000   \n",
       "75%       2.000000      5.000000      8.000000      3.000000      0.000000   \n",
       "max       6.000000      7.000000      9.000000    241.000000      6.000000   \n",
       "\n",
       "           ...           FISTDATE      NEXTDATE       TIMELAG       AVGGIFT  \\\n",
       "count      ...       50127.000000  44927.000000  44927.000000  50127.000000   \n",
       "mean       ...        9134.159056   9149.866361      8.084404     13.324361   \n",
       "std        ...         320.188790    294.195865      8.124036     11.119029   \n",
       "min        ...           0.000000   7703.000000      0.000000      1.285714   \n",
       "25%        ...        8810.000000   8903.000000      4.000000      8.333333   \n",
       "50%        ...        9201.000000   9203.000000      6.000000     11.571429   \n",
       "75%        ...        9409.000000   9409.000000     11.000000     15.428571   \n",
       "max        ...        9603.000000   9702.000000   1088.000000    948.500000   \n",
       "\n",
       "            CONTROLN      TARGET_B      TARGET_D      HPHONE_D        RFA_2F  \\\n",
       "count   50127.000000  50127.000000  50127.000000  50127.000000  50127.000000   \n",
       "mean    96028.055379      0.096615      1.509540      0.498534      1.922218   \n",
       "std     55407.293794      0.295435      6.022317      0.500003      1.078158   \n",
       "min         5.000000      0.000000      0.000000      0.000000      1.000000   \n",
       "25%     48008.500000      0.000000      0.000000      0.000000      1.000000   \n",
       "50%     96093.000000      0.000000      0.000000      0.000000      2.000000   \n",
       "75%    144165.500000      0.000000      0.000000      1.000000      3.000000   \n",
       "max    191779.000000      1.000000    200.000000      1.000000      4.000000   \n",
       "\n",
       "           CLUSTER2  \n",
       "count  50058.000000  \n",
       "mean      31.452435  \n",
       "std       18.784004  \n",
       "min        1.000000  \n",
       "25%       14.000000  \n",
       "50%       32.000000  \n",
       "75%       49.000000  \n",
       "max       62.000000  \n",
       "\n",
       "[8 rows x 413 columns]"
      ]
     },
     "execution_count": 6,
     "metadata": {},
     "output_type": "execute_result"
    }
   ],
   "source": [
    "data.describe()"
   ]
  },
  {
   "cell_type": "markdown",
   "metadata": {},
   "source": [
    "## pop target columns"
   ]
  },
  {
   "cell_type": "code",
   "execution_count": 7,
   "metadata": {
    "collapsed": false
   },
   "outputs": [],
   "source": [
    "target_b = data.pop('TARGET_B')\n",
    "target_d = data.pop('TARGET_D')"
   ]
  },
  {
   "cell_type": "code",
   "execution_count": 8,
   "metadata": {
    "collapsed": false
   },
   "outputs": [],
   "source": [
    "percents = data.isnull().sum() / data.shape[0]"
   ]
  },
  {
   "cell_type": "code",
   "execution_count": 9,
   "metadata": {
    "collapsed": false
   },
   "outputs": [],
   "source": [
    "for col,value in zip(percents.index,percents):\n",
    "    if value > 0.2:\n",
    "        data.drop([col],inplace=True,axis=1)"
   ]
  },
  {
   "cell_type": "code",
   "execution_count": 10,
   "metadata": {
    "collapsed": false
   },
   "outputs": [
    {
     "data": {
      "text/plain": [
       "(50127, 353)"
      ]
     },
     "execution_count": 10,
     "metadata": {},
     "output_type": "execute_result"
    }
   ],
   "source": [
    "data.shape"
   ]
  },
  {
   "cell_type": "markdown",
   "metadata": {},
   "source": [
    "### Clear NOEXCH duplicate values"
   ]
  },
  {
   "cell_type": "code",
   "execution_count": 11,
   "metadata": {
    "collapsed": false
   },
   "outputs": [],
   "source": [
    "noe = data[\"NOEXCH\"]"
   ]
  },
  {
   "cell_type": "code",
   "execution_count": 12,
   "metadata": {
    "collapsed": false
   },
   "outputs": [],
   "source": [
    "data[\"NOEXCH\"] = noe.apply(lambda x: str(x))\n",
    "data[\"NOEXCH\"] = noe.apply(lambda x: '1.0' if x == '1' else x)\n",
    "data[\"NOEXCH\"] = noe.apply(lambda x: '0.0' if x == '0' else x)\n",
    "data[\"NOEXCH\"] = noe.apply(lambda x: np.nan if x == 'nan' else x)"
   ]
  },
  {
   "cell_type": "code",
   "execution_count": 13,
   "metadata": {
    "collapsed": false
   },
   "outputs": [
    {
     "data": {
      "text/plain": [
       "array(['0.0', '1.0', 'X', nan], dtype=object)"
      ]
     },
     "execution_count": 13,
     "metadata": {},
     "output_type": "execute_result"
    }
   ],
   "source": [
    "data[\"NOEXCH\"].unique()"
   ]
  },
  {
   "cell_type": "markdown",
   "metadata": {},
   "source": [
    "## Split on train and test data"
   ]
  },
  {
   "cell_type": "code",
   "execution_count": 14,
   "metadata": {
    "collapsed": false
   },
   "outputs": [],
   "source": [
    "X_train = data.iloc[:37595]\n",
    "X_test = data.iloc[37595:]\n",
    "y_train = target_b.iloc[:37595]\n",
    "y_test = target_b.iloc[37595:]"
   ]
  },
  {
   "cell_type": "markdown",
   "metadata": {},
   "source": [
    "## Numeric data"
   ]
  },
  {
   "cell_type": "code",
   "execution_count": 15,
   "metadata": {
    "collapsed": true
   },
   "outputs": [],
   "source": [
    "data_numerics = X_train.select_dtypes(include = ['number'])"
   ]
  },
  {
   "cell_type": "code",
   "execution_count": 16,
   "metadata": {
    "collapsed": false
   },
   "outputs": [
    {
     "data": {
      "text/plain": [
       "(37595, 330)"
      ]
     },
     "execution_count": 16,
     "metadata": {},
     "output_type": "execute_result"
    }
   ],
   "source": [
    "data_numerics.shape"
   ]
  },
  {
   "cell_type": "code",
   "execution_count": 17,
   "metadata": {
    "collapsed": true
   },
   "outputs": [],
   "source": [
    "num_pipeline = Pipeline([\n",
    "    ('imputer',Imputer()),\n",
    "    ('variance',VarianceThreshold(0.2)),\n",
    "    ('scaling',MinMaxScaler()),\n",
    "])"
   ]
  },
  {
   "cell_type": "code",
   "execution_count": 18,
   "metadata": {
    "collapsed": true
   },
   "outputs": [],
   "source": [
    "numerics_proc = num_pipeline.fit_transform(data_numerics)"
   ]
  },
  {
   "cell_type": "code",
   "execution_count": 19,
   "metadata": {
    "collapsed": false
   },
   "outputs": [],
   "source": [
    "accepted_col = data_numerics.columns[num_pipeline.steps[1][1].get_support()]"
   ]
  },
  {
   "cell_type": "code",
   "execution_count": 20,
   "metadata": {
    "collapsed": false
   },
   "outputs": [],
   "source": [
    "data_num_proc = pd.DataFrame(numerics_proc,columns=accepted_col)"
   ]
  },
  {
   "cell_type": "code",
   "execution_count": 21,
   "metadata": {
    "collapsed": false
   },
   "outputs": [
    {
     "data": {
      "text/html": [
       "<div>\n",
       "<table border=\"1\" class=\"dataframe\">\n",
       "  <thead>\n",
       "    <tr style=\"text-align: right;\">\n",
       "      <th></th>\n",
       "      <th>ODATEDW</th>\n",
       "      <th>TCODE</th>\n",
       "      <th>DOB</th>\n",
       "      <th>CLUSTER</th>\n",
       "      <th>HIT</th>\n",
       "      <th>MALEMILI</th>\n",
       "      <th>MALEVET</th>\n",
       "      <th>VIETVETS</th>\n",
       "      <th>WWIIVETS</th>\n",
       "      <th>LOCALGOV</th>\n",
       "      <th>...</th>\n",
       "      <th>LASTGIFT</th>\n",
       "      <th>LASTDATE</th>\n",
       "      <th>FISTDATE</th>\n",
       "      <th>NEXTDATE</th>\n",
       "      <th>TIMELAG</th>\n",
       "      <th>AVGGIFT</th>\n",
       "      <th>CONTROLN</th>\n",
       "      <th>HPHONE_D</th>\n",
       "      <th>RFA_2F</th>\n",
       "      <th>CLUSTER2</th>\n",
       "    </tr>\n",
       "  </thead>\n",
       "  <tbody>\n",
       "    <tr>\n",
       "      <th>0</th>\n",
       "      <td>0.333333</td>\n",
       "      <td>0.000000</td>\n",
       "      <td>0.556345</td>\n",
       "      <td>0.230769</td>\n",
       "      <td>0.000000</td>\n",
       "      <td>0.020619</td>\n",
       "      <td>0.414141</td>\n",
       "      <td>0.242424</td>\n",
       "      <td>0.474747</td>\n",
       "      <td>0.267606</td>\n",
       "      <td>...</td>\n",
       "      <td>0.035524</td>\n",
       "      <td>0.045226</td>\n",
       "      <td>0.927939</td>\n",
       "      <td>0.633298</td>\n",
       "      <td>0.006434</td>\n",
       "      <td>0.012602</td>\n",
       "      <td>0.809020</td>\n",
       "      <td>0.0</td>\n",
       "      <td>0.333333</td>\n",
       "      <td>0.377049</td>\n",
       "    </tr>\n",
       "    <tr>\n",
       "      <th>1</th>\n",
       "      <td>0.750000</td>\n",
       "      <td>0.000000</td>\n",
       "      <td>0.597548</td>\n",
       "      <td>0.826923</td>\n",
       "      <td>0.016598</td>\n",
       "      <td>0.000000</td>\n",
       "      <td>0.313131</td>\n",
       "      <td>0.373737</td>\n",
       "      <td>0.252525</td>\n",
       "      <td>0.140845</td>\n",
       "      <td>...</td>\n",
       "      <td>0.035524</td>\n",
       "      <td>0.492462</td>\n",
       "      <td>0.978965</td>\n",
       "      <td>0.844573</td>\n",
       "      <td>0.005515</td>\n",
       "      <td>0.011311</td>\n",
       "      <td>0.383180</td>\n",
       "      <td>1.0</td>\n",
       "      <td>0.333333</td>\n",
       "      <td>0.672131</td>\n",
       "    </tr>\n",
       "    <tr>\n",
       "      <th>2</th>\n",
       "      <td>0.083333</td>\n",
       "      <td>0.000028</td>\n",
       "      <td>0.422847</td>\n",
       "      <td>0.230769</td>\n",
       "      <td>0.053942</td>\n",
       "      <td>0.000000</td>\n",
       "      <td>0.353535</td>\n",
       "      <td>0.181818</td>\n",
       "      <td>0.484848</td>\n",
       "      <td>0.140845</td>\n",
       "      <td>...</td>\n",
       "      <td>0.047957</td>\n",
       "      <td>0.045226</td>\n",
       "      <td>0.896595</td>\n",
       "      <td>0.476818</td>\n",
       "      <td>0.010110</td>\n",
       "      <td>0.013039</td>\n",
       "      <td>0.848473</td>\n",
       "      <td>1.0</td>\n",
       "      <td>0.000000</td>\n",
       "      <td>0.098361</td>\n",
       "    </tr>\n",
       "    <tr>\n",
       "      <th>3</th>\n",
       "      <td>0.083333</td>\n",
       "      <td>0.000000</td>\n",
       "      <td>0.000000</td>\n",
       "      <td>0.576923</td>\n",
       "      <td>0.000000</td>\n",
       "      <td>0.000000</td>\n",
       "      <td>0.292929</td>\n",
       "      <td>0.454545</td>\n",
       "      <td>0.434343</td>\n",
       "      <td>0.042254</td>\n",
       "      <td>...</td>\n",
       "      <td>0.012433</td>\n",
       "      <td>0.045226</td>\n",
       "      <td>0.906279</td>\n",
       "      <td>0.478398</td>\n",
       "      <td>0.008272</td>\n",
       "      <td>0.003238</td>\n",
       "      <td>0.425631</td>\n",
       "      <td>0.0</td>\n",
       "      <td>0.666667</td>\n",
       "      <td>0.786885</td>\n",
       "    </tr>\n",
       "    <tr>\n",
       "      <th>4</th>\n",
       "      <td>0.583333</td>\n",
       "      <td>0.000000</td>\n",
       "      <td>0.217347</td>\n",
       "      <td>0.519231</td>\n",
       "      <td>0.008299</td>\n",
       "      <td>0.000000</td>\n",
       "      <td>0.333333</td>\n",
       "      <td>0.212121</td>\n",
       "      <td>0.595960</td>\n",
       "      <td>0.112676</td>\n",
       "      <td>...</td>\n",
       "      <td>0.044405</td>\n",
       "      <td>0.045226</td>\n",
       "      <td>0.958138</td>\n",
       "      <td>0.738672</td>\n",
       "      <td>0.004596</td>\n",
       "      <td>0.023116</td>\n",
       "      <td>0.469620</td>\n",
       "      <td>1.0</td>\n",
       "      <td>0.000000</td>\n",
       "      <td>0.196721</td>\n",
       "    </tr>\n",
       "  </tbody>\n",
       "</table>\n",
       "<p>5 rows × 324 columns</p>\n",
       "</div>"
      ],
      "text/plain": [
       "    ODATEDW     TCODE       DOB   CLUSTER       HIT  MALEMILI   MALEVET  \\\n",
       "0  0.333333  0.000000  0.556345  0.230769  0.000000  0.020619  0.414141   \n",
       "1  0.750000  0.000000  0.597548  0.826923  0.016598  0.000000  0.313131   \n",
       "2  0.083333  0.000028  0.422847  0.230769  0.053942  0.000000  0.353535   \n",
       "3  0.083333  0.000000  0.000000  0.576923  0.000000  0.000000  0.292929   \n",
       "4  0.583333  0.000000  0.217347  0.519231  0.008299  0.000000  0.333333   \n",
       "\n",
       "   VIETVETS  WWIIVETS  LOCALGOV    ...     LASTGIFT  LASTDATE  FISTDATE  \\\n",
       "0  0.242424  0.474747  0.267606    ...     0.035524  0.045226  0.927939   \n",
       "1  0.373737  0.252525  0.140845    ...     0.035524  0.492462  0.978965   \n",
       "2  0.181818  0.484848  0.140845    ...     0.047957  0.045226  0.896595   \n",
       "3  0.454545  0.434343  0.042254    ...     0.012433  0.045226  0.906279   \n",
       "4  0.212121  0.595960  0.112676    ...     0.044405  0.045226  0.958138   \n",
       "\n",
       "   NEXTDATE   TIMELAG   AVGGIFT  CONTROLN  HPHONE_D    RFA_2F  CLUSTER2  \n",
       "0  0.633298  0.006434  0.012602  0.809020       0.0  0.333333  0.377049  \n",
       "1  0.844573  0.005515  0.011311  0.383180       1.0  0.333333  0.672131  \n",
       "2  0.476818  0.010110  0.013039  0.848473       1.0  0.000000  0.098361  \n",
       "3  0.478398  0.008272  0.003238  0.425631       0.0  0.666667  0.786885  \n",
       "4  0.738672  0.004596  0.023116  0.469620       1.0  0.000000  0.196721  \n",
       "\n",
       "[5 rows x 324 columns]"
      ]
     },
     "execution_count": 21,
     "metadata": {},
     "output_type": "execute_result"
    }
   ],
   "source": [
    "data_num_proc.head()"
   ]
  },
  {
   "cell_type": "code",
   "execution_count": 22,
   "metadata": {
    "collapsed": false
   },
   "outputs": [
    {
     "data": {
      "text/plain": [
       "(37595, 324)"
      ]
     },
     "execution_count": 22,
     "metadata": {},
     "output_type": "execute_result"
    }
   ],
   "source": [
    "data_num_proc.shape"
   ]
  },
  {
   "cell_type": "markdown",
   "metadata": {},
   "source": [
    "## Categorical data"
   ]
  },
  {
   "cell_type": "code",
   "execution_count": 23,
   "metadata": {
    "collapsed": true
   },
   "outputs": [],
   "source": [
    "data_categorical = X_train.select_dtypes(exclude = ['number'])"
   ]
  },
  {
   "cell_type": "code",
   "execution_count": 24,
   "metadata": {
    "collapsed": false
   },
   "outputs": [
    {
     "data": {
      "text/plain": [
       "(37595, 23)"
      ]
     },
     "execution_count": 24,
     "metadata": {},
     "output_type": "execute_result"
    }
   ],
   "source": [
    "data_categorical.shape"
   ]
  },
  {
   "cell_type": "code",
   "execution_count": 25,
   "metadata": {
    "collapsed": false
   },
   "outputs": [
    {
     "data": {
      "text/html": [
       "<div>\n",
       "<table border=\"1\" class=\"dataframe\">\n",
       "  <thead>\n",
       "    <tr style=\"text-align: right;\">\n",
       "      <th></th>\n",
       "      <th>OSOURCE</th>\n",
       "      <th>STATE</th>\n",
       "      <th>ZIP</th>\n",
       "      <th>NOEXCH</th>\n",
       "      <th>MDMAUD</th>\n",
       "      <th>DOMAIN</th>\n",
       "      <th>GENDER</th>\n",
       "      <th>RFA_2</th>\n",
       "      <th>RFA_3</th>\n",
       "      <th>RFA_4</th>\n",
       "      <th>...</th>\n",
       "      <th>RFA_9</th>\n",
       "      <th>RFA_11</th>\n",
       "      <th>RFA_12</th>\n",
       "      <th>RFA_14</th>\n",
       "      <th>RFA_2R</th>\n",
       "      <th>RFA_2A</th>\n",
       "      <th>MDMAUD_R</th>\n",
       "      <th>MDMAUD_F</th>\n",
       "      <th>MDMAUD_A</th>\n",
       "      <th>GEOCODE2</th>\n",
       "    </tr>\n",
       "  </thead>\n",
       "  <tbody>\n",
       "    <tr>\n",
       "      <th>0</th>\n",
       "      <td>ADM</td>\n",
       "      <td>CA</td>\n",
       "      <td>92375</td>\n",
       "      <td>0.0</td>\n",
       "      <td>XXXX</td>\n",
       "      <td>S1</td>\n",
       "      <td>M</td>\n",
       "      <td>L2F</td>\n",
       "      <td>A2F</td>\n",
       "      <td>A2F</td>\n",
       "      <td>...</td>\n",
       "      <td>A1F</td>\n",
       "      <td>A1F</td>\n",
       "      <td>A1F</td>\n",
       "      <td>A1F</td>\n",
       "      <td>L</td>\n",
       "      <td>F</td>\n",
       "      <td>X</td>\n",
       "      <td>X</td>\n",
       "      <td>X</td>\n",
       "      <td>A</td>\n",
       "    </tr>\n",
       "    <tr>\n",
       "      <th>1</th>\n",
       "      <td>MBC</td>\n",
       "      <td>MI</td>\n",
       "      <td>49453</td>\n",
       "      <td>0.0</td>\n",
       "      <td>XXXX</td>\n",
       "      <td>R2</td>\n",
       "      <td>F</td>\n",
       "      <td>L2F</td>\n",
       "      <td>A2F</td>\n",
       "      <td>A2F</td>\n",
       "      <td>...</td>\n",
       "      <td>A1E</td>\n",
       "      <td>A1E</td>\n",
       "      <td>A1E</td>\n",
       "      <td>A2F</td>\n",
       "      <td>L</td>\n",
       "      <td>F</td>\n",
       "      <td>X</td>\n",
       "      <td>X</td>\n",
       "      <td>X</td>\n",
       "      <td>C</td>\n",
       "    </tr>\n",
       "    <tr>\n",
       "      <th>2</th>\n",
       "      <td>BHG</td>\n",
       "      <td>CA</td>\n",
       "      <td>94070</td>\n",
       "      <td>0.0</td>\n",
       "      <td>XXXX</td>\n",
       "      <td>S1</td>\n",
       "      <td>M</td>\n",
       "      <td>L1G</td>\n",
       "      <td>A1G</td>\n",
       "      <td>A1G</td>\n",
       "      <td>...</td>\n",
       "      <td>A1F</td>\n",
       "      <td>A1F</td>\n",
       "      <td>A1F</td>\n",
       "      <td>A1F</td>\n",
       "      <td>L</td>\n",
       "      <td>G</td>\n",
       "      <td>X</td>\n",
       "      <td>X</td>\n",
       "      <td>X</td>\n",
       "      <td>A</td>\n",
       "    </tr>\n",
       "    <tr>\n",
       "      <th>3</th>\n",
       "      <td>BHG</td>\n",
       "      <td>WI</td>\n",
       "      <td>54880</td>\n",
       "      <td>0.0</td>\n",
       "      <td>XXXX</td>\n",
       "      <td>C3</td>\n",
       "      <td>F</td>\n",
       "      <td>L3D</td>\n",
       "      <td>S3D</td>\n",
       "      <td>S3D</td>\n",
       "      <td>...</td>\n",
       "      <td>S3D</td>\n",
       "      <td>S4D</td>\n",
       "      <td>S4D</td>\n",
       "      <td>S4D</td>\n",
       "      <td>L</td>\n",
       "      <td>D</td>\n",
       "      <td>X</td>\n",
       "      <td>X</td>\n",
       "      <td>X</td>\n",
       "      <td>B</td>\n",
       "    </tr>\n",
       "    <tr>\n",
       "      <th>4</th>\n",
       "      <td>ESN</td>\n",
       "      <td>IL</td>\n",
       "      <td>60162</td>\n",
       "      <td>0.0</td>\n",
       "      <td>XXXX</td>\n",
       "      <td>C2</td>\n",
       "      <td>F</td>\n",
       "      <td>L1G</td>\n",
       "      <td>A1G</td>\n",
       "      <td>A1G</td>\n",
       "      <td>...</td>\n",
       "      <td>S2G</td>\n",
       "      <td>S2G</td>\n",
       "      <td>S2G</td>\n",
       "      <td>S2G</td>\n",
       "      <td>L</td>\n",
       "      <td>G</td>\n",
       "      <td>X</td>\n",
       "      <td>X</td>\n",
       "      <td>X</td>\n",
       "      <td>A</td>\n",
       "    </tr>\n",
       "  </tbody>\n",
       "</table>\n",
       "<p>5 rows × 23 columns</p>\n",
       "</div>"
      ],
      "text/plain": [
       "  OSOURCE STATE    ZIP NOEXCH MDMAUD DOMAIN GENDER RFA_2 RFA_3 RFA_4   ...     \\\n",
       "0     ADM    CA  92375    0.0   XXXX     S1      M   L2F   A2F   A2F   ...      \n",
       "1     MBC    MI  49453    0.0   XXXX     R2      F   L2F   A2F   A2F   ...      \n",
       "2     BHG    CA  94070    0.0   XXXX     S1      M   L1G   A1G   A1G   ...      \n",
       "3     BHG    WI  54880    0.0   XXXX     C3      F   L3D   S3D   S3D   ...      \n",
       "4     ESN    IL  60162    0.0   XXXX     C2      F   L1G   A1G   A1G   ...      \n",
       "\n",
       "  RFA_9 RFA_11 RFA_12 RFA_14 RFA_2R RFA_2A MDMAUD_R MDMAUD_F MDMAUD_A GEOCODE2  \n",
       "0   A1F    A1F    A1F    A1F      L      F        X        X        X        A  \n",
       "1   A1E    A1E    A1E    A2F      L      F        X        X        X        C  \n",
       "2   A1F    A1F    A1F    A1F      L      G        X        X        X        A  \n",
       "3   S3D    S4D    S4D    S4D      L      D        X        X        X        B  \n",
       "4   S2G    S2G    S2G    S2G      L      G        X        X        X        A  \n",
       "\n",
       "[5 rows x 23 columns]"
      ]
     },
     "execution_count": 25,
     "metadata": {},
     "output_type": "execute_result"
    }
   ],
   "source": [
    "data_categorical.head()"
   ]
  },
  {
   "cell_type": "code",
   "execution_count": 26,
   "metadata": {
    "collapsed": false
   },
   "outputs": [],
   "source": [
    "class TopValueImputer(TransformerMixin):\n",
    "    \n",
    "    def __init__(self):\n",
    "        self.top_values = {} # {'nazwa_kolumny': najczęstsza wartość}\n",
    "    \n",
    "    def fit(self, X, y=None):\n",
    "        # zapamiętanie najczęstszego poziomu dla każdej z kolumn\n",
    "        for col in X.columns:\n",
    "            counts = X[col].value_counts()\n",
    "            if counts.shape[0] == 0:\n",
    "                self.top_values[col] = 'nan'\n",
    "                continue\n",
    "            top_count = counts.argmax()\n",
    "            self.top_values[col] = top_count            \n",
    "        return self\n",
    "    \n",
    "    def transform(self, X, y=None):\n",
    "        X = X.copy()\n",
    "        # uzupełnienie danych odpowiednią wartością\n",
    "        for col in X.columns:\n",
    "            X[col] = X[col].fillna(self.top_values[col])\n",
    "        return X\n"
   ]
  },
  {
   "cell_type": "code",
   "execution_count": 27,
   "metadata": {
    "collapsed": true
   },
   "outputs": [],
   "source": [
    "class FilterCategoricalWithLevelThreshold(TransformerMixin):\n",
    "    def __init__(self,k):\n",
    "        self.filtered_col = [] # cols to keep\n",
    "        self.k = k # maximal number of levels in col\n",
    "        \n",
    "    def fit(self,X,y=None):\n",
    "        levels_count = X.apply(lambda x: len(x.unique())).sort_values(ascending=False)\n",
    "        self.filtered_col =  levels_count[levels_count <=  self.k].index\n",
    "        return self\n",
    "    \n",
    "    def transform(self,X,y=None):\n",
    "        X = X.copy()\n",
    "        X = X[self.filtered_col]\n",
    "        return X\n",
    "    "
   ]
  },
  {
   "cell_type": "code",
   "execution_count": 28,
   "metadata": {
    "collapsed": false
   },
   "outputs": [],
   "source": [
    "class RobustOneHotEncoding(TransformerMixin):\n",
    "    def __init__(self):\n",
    "        self.columns = None\n",
    "    \n",
    "    def fit(self, X, y=None):\n",
    "        # zapamiętanie, jakie kolumny mogą pojawić się z one hot encoding\n",
    "        self.columns = pd.get_dummies(X).columns        \n",
    "        return self\n",
    "    \n",
    "    def transform(self, X, y=None):\n",
    "        # zrobić pd.get_dummies i uzupełnić brakujące kolumny, ewentualnie usunąć nadmiarowe\n",
    "        new_dummies = pd.get_dummies(X)\n",
    "        dummy_cols = new_dummies.columns\n",
    "            \n",
    "        filtered_data = pd.DataFrame()\n",
    "        \n",
    "        # respect order of columns\n",
    "        for col in self.columns:\n",
    "\n",
    "            #add empty col\n",
    "            if col not in dummy_cols:\n",
    "                #print(col)\n",
    "                filtered_data[col] = 0                \n",
    "                #print(filtered_data.shape)\n",
    "            else:\n",
    "                filtered_data[col] = new_dummies[col]\n",
    "        \n",
    "        if filtered_data.isnull().sum().sum() > 0:\n",
    "            filtered_data.fillna(value=0,axis=1,inplace=True)\n",
    "            filtered_data = filtered_data.astype('uint8')\n",
    "            \n",
    "        return filtered_data     "
   ]
  },
  {
   "cell_type": "code",
   "execution_count": 29,
   "metadata": {
    "collapsed": true
   },
   "outputs": [],
   "source": [
    "cat_pipeline = Pipeline([\n",
    "    ('filter',FilterCategoricalWithLevelThreshold(10)),\n",
    "    ('imputer',TopValueImputer()),\n",
    "    ('dummy',RobustOneHotEncoding())\n",
    "])"
   ]
  },
  {
   "cell_type": "code",
   "execution_count": 30,
   "metadata": {
    "collapsed": false
   },
   "outputs": [],
   "source": [
    "cat_proc = cat_pipeline.fit_transform(data_categorical)"
   ]
  },
  {
   "cell_type": "code",
   "execution_count": 31,
   "metadata": {
    "collapsed": false
   },
   "outputs": [
    {
     "data": {
      "text/plain": [
       "(37595, 31)"
      ]
     },
     "execution_count": 31,
     "metadata": {},
     "output_type": "execute_result"
    }
   ],
   "source": [
    "cat_proc.shape"
   ]
  },
  {
   "cell_type": "code",
   "execution_count": 32,
   "metadata": {
    "collapsed": false
   },
   "outputs": [
    {
     "data": {
      "text/plain": [
       "Index(['GENDER_A', 'GENDER_F', 'GENDER_J', 'GENDER_M', 'GENDER_U',\n",
       "       'MDMAUD_A_C', 'MDMAUD_A_L', 'MDMAUD_A_M', 'MDMAUD_A_T', 'MDMAUD_A_X',\n",
       "       'MDMAUD_R_C', 'MDMAUD_R_D', 'MDMAUD_R_I', 'MDMAUD_R_L', 'MDMAUD_R_X',\n",
       "       'GEOCODE2_A', 'GEOCODE2_B', 'GEOCODE2_C', 'GEOCODE2_D', 'RFA_2A_D',\n",
       "       'RFA_2A_E', 'RFA_2A_F', 'RFA_2A_G', 'NOEXCH_0.0', 'NOEXCH_1.0',\n",
       "       'NOEXCH_X', 'MDMAUD_F_1', 'MDMAUD_F_2', 'MDMAUD_F_5', 'MDMAUD_F_X',\n",
       "       'RFA_2R_L'],\n",
       "      dtype='object')"
      ]
     },
     "execution_count": 32,
     "metadata": {},
     "output_type": "execute_result"
    }
   ],
   "source": [
    "cat_proc.columns"
   ]
  },
  {
   "cell_type": "code",
   "execution_count": 33,
   "metadata": {
    "collapsed": false,
    "scrolled": true
   },
   "outputs": [
    {
     "data": {
      "text/html": [
       "<div>\n",
       "<table border=\"1\" class=\"dataframe\">\n",
       "  <thead>\n",
       "    <tr style=\"text-align: right;\">\n",
       "      <th></th>\n",
       "      <th>GENDER_A</th>\n",
       "      <th>GENDER_F</th>\n",
       "      <th>GENDER_J</th>\n",
       "      <th>GENDER_M</th>\n",
       "      <th>GENDER_U</th>\n",
       "      <th>MDMAUD_A_C</th>\n",
       "      <th>MDMAUD_A_L</th>\n",
       "      <th>MDMAUD_A_M</th>\n",
       "      <th>MDMAUD_A_T</th>\n",
       "      <th>MDMAUD_A_X</th>\n",
       "      <th>...</th>\n",
       "      <th>RFA_2A_F</th>\n",
       "      <th>RFA_2A_G</th>\n",
       "      <th>NOEXCH_0.0</th>\n",
       "      <th>NOEXCH_1.0</th>\n",
       "      <th>NOEXCH_X</th>\n",
       "      <th>MDMAUD_F_1</th>\n",
       "      <th>MDMAUD_F_2</th>\n",
       "      <th>MDMAUD_F_5</th>\n",
       "      <th>MDMAUD_F_X</th>\n",
       "      <th>RFA_2R_L</th>\n",
       "    </tr>\n",
       "  </thead>\n",
       "  <tbody>\n",
       "    <tr>\n",
       "      <th>0</th>\n",
       "      <td>0</td>\n",
       "      <td>0</td>\n",
       "      <td>0</td>\n",
       "      <td>1</td>\n",
       "      <td>0</td>\n",
       "      <td>0</td>\n",
       "      <td>0</td>\n",
       "      <td>0</td>\n",
       "      <td>0</td>\n",
       "      <td>1</td>\n",
       "      <td>...</td>\n",
       "      <td>1</td>\n",
       "      <td>0</td>\n",
       "      <td>1</td>\n",
       "      <td>0</td>\n",
       "      <td>0</td>\n",
       "      <td>0</td>\n",
       "      <td>0</td>\n",
       "      <td>0</td>\n",
       "      <td>1</td>\n",
       "      <td>1</td>\n",
       "    </tr>\n",
       "    <tr>\n",
       "      <th>1</th>\n",
       "      <td>0</td>\n",
       "      <td>1</td>\n",
       "      <td>0</td>\n",
       "      <td>0</td>\n",
       "      <td>0</td>\n",
       "      <td>0</td>\n",
       "      <td>0</td>\n",
       "      <td>0</td>\n",
       "      <td>0</td>\n",
       "      <td>1</td>\n",
       "      <td>...</td>\n",
       "      <td>1</td>\n",
       "      <td>0</td>\n",
       "      <td>1</td>\n",
       "      <td>0</td>\n",
       "      <td>0</td>\n",
       "      <td>0</td>\n",
       "      <td>0</td>\n",
       "      <td>0</td>\n",
       "      <td>1</td>\n",
       "      <td>1</td>\n",
       "    </tr>\n",
       "    <tr>\n",
       "      <th>2</th>\n",
       "      <td>0</td>\n",
       "      <td>0</td>\n",
       "      <td>0</td>\n",
       "      <td>1</td>\n",
       "      <td>0</td>\n",
       "      <td>0</td>\n",
       "      <td>0</td>\n",
       "      <td>0</td>\n",
       "      <td>0</td>\n",
       "      <td>1</td>\n",
       "      <td>...</td>\n",
       "      <td>0</td>\n",
       "      <td>1</td>\n",
       "      <td>1</td>\n",
       "      <td>0</td>\n",
       "      <td>0</td>\n",
       "      <td>0</td>\n",
       "      <td>0</td>\n",
       "      <td>0</td>\n",
       "      <td>1</td>\n",
       "      <td>1</td>\n",
       "    </tr>\n",
       "    <tr>\n",
       "      <th>3</th>\n",
       "      <td>0</td>\n",
       "      <td>1</td>\n",
       "      <td>0</td>\n",
       "      <td>0</td>\n",
       "      <td>0</td>\n",
       "      <td>0</td>\n",
       "      <td>0</td>\n",
       "      <td>0</td>\n",
       "      <td>0</td>\n",
       "      <td>1</td>\n",
       "      <td>...</td>\n",
       "      <td>0</td>\n",
       "      <td>0</td>\n",
       "      <td>1</td>\n",
       "      <td>0</td>\n",
       "      <td>0</td>\n",
       "      <td>0</td>\n",
       "      <td>0</td>\n",
       "      <td>0</td>\n",
       "      <td>1</td>\n",
       "      <td>1</td>\n",
       "    </tr>\n",
       "    <tr>\n",
       "      <th>4</th>\n",
       "      <td>0</td>\n",
       "      <td>1</td>\n",
       "      <td>0</td>\n",
       "      <td>0</td>\n",
       "      <td>0</td>\n",
       "      <td>0</td>\n",
       "      <td>0</td>\n",
       "      <td>0</td>\n",
       "      <td>0</td>\n",
       "      <td>1</td>\n",
       "      <td>...</td>\n",
       "      <td>0</td>\n",
       "      <td>1</td>\n",
       "      <td>1</td>\n",
       "      <td>0</td>\n",
       "      <td>0</td>\n",
       "      <td>0</td>\n",
       "      <td>0</td>\n",
       "      <td>0</td>\n",
       "      <td>1</td>\n",
       "      <td>1</td>\n",
       "    </tr>\n",
       "  </tbody>\n",
       "</table>\n",
       "<p>5 rows × 31 columns</p>\n",
       "</div>"
      ],
      "text/plain": [
       "   GENDER_A  GENDER_F  GENDER_J  GENDER_M  GENDER_U  MDMAUD_A_C  MDMAUD_A_L  \\\n",
       "0         0         0         0         1         0           0           0   \n",
       "1         0         1         0         0         0           0           0   \n",
       "2         0         0         0         1         0           0           0   \n",
       "3         0         1         0         0         0           0           0   \n",
       "4         0         1         0         0         0           0           0   \n",
       "\n",
       "   MDMAUD_A_M  MDMAUD_A_T  MDMAUD_A_X    ...     RFA_2A_F  RFA_2A_G  \\\n",
       "0           0           0           1    ...            1         0   \n",
       "1           0           0           1    ...            1         0   \n",
       "2           0           0           1    ...            0         1   \n",
       "3           0           0           1    ...            0         0   \n",
       "4           0           0           1    ...            0         1   \n",
       "\n",
       "   NOEXCH_0.0  NOEXCH_1.0  NOEXCH_X  MDMAUD_F_1  MDMAUD_F_2  MDMAUD_F_5  \\\n",
       "0           1           0         0           0           0           0   \n",
       "1           1           0         0           0           0           0   \n",
       "2           1           0         0           0           0           0   \n",
       "3           1           0         0           0           0           0   \n",
       "4           1           0         0           0           0           0   \n",
       "\n",
       "   MDMAUD_F_X  RFA_2R_L  \n",
       "0           1         1  \n",
       "1           1         1  \n",
       "2           1         1  \n",
       "3           1         1  \n",
       "4           1         1  \n",
       "\n",
       "[5 rows x 31 columns]"
      ]
     },
     "execution_count": 33,
     "metadata": {},
     "output_type": "execute_result"
    }
   ],
   "source": [
    "cat_proc.head()"
   ]
  },
  {
   "cell_type": "markdown",
   "metadata": {},
   "source": [
    "## Merge num and categorical data"
   ]
  },
  {
   "cell_type": "code",
   "execution_count": 34,
   "metadata": {
    "collapsed": false
   },
   "outputs": [],
   "source": [
    "data_train = pd.concat([data_num_proc, cat_proc], axis=1)"
   ]
  },
  {
   "cell_type": "code",
   "execution_count": 35,
   "metadata": {
    "collapsed": false
   },
   "outputs": [
    {
     "data": {
      "text/plain": [
       "(37595, 355)"
      ]
     },
     "execution_count": 35,
     "metadata": {},
     "output_type": "execute_result"
    }
   ],
   "source": [
    "data_train.shape"
   ]
  },
  {
   "cell_type": "code",
   "execution_count": 36,
   "metadata": {
    "collapsed": false
   },
   "outputs": [
    {
     "data": {
      "text/plain": [
       "(37595,)"
      ]
     },
     "execution_count": 36,
     "metadata": {},
     "output_type": "execute_result"
    }
   ],
   "source": [
    "y_train.shape"
   ]
  },
  {
   "cell_type": "markdown",
   "metadata": {},
   "source": [
    "## XGBoost"
   ]
  },
  {
   "cell_type": "code",
   "execution_count": 55,
   "metadata": {
    "collapsed": false
   },
   "outputs": [],
   "source": [
    "estimator = XGBClassifier(learning_rate=0.05, n_estimators=200, colsample_bytree=0.5, n_jobs=-1)\n",
    "\n",
    "xgboost_score = cross_val_score(estimator=estimator,X=data_train,y=y_train,cv=KFold(5,shuffle=True),scoring='roc_auc')"
   ]
  },
  {
   "cell_type": "code",
   "execution_count": 56,
   "metadata": {
    "collapsed": false
   },
   "outputs": [
    {
     "data": {
      "text/plain": [
       "array([ 0.61803376,  0.63181015,  0.63562595,  0.62110035,  0.6183998 ])"
      ]
     },
     "execution_count": 56,
     "metadata": {},
     "output_type": "execute_result"
    }
   ],
   "source": [
    "xgboost_score"
   ]
  },
  {
   "cell_type": "code",
   "execution_count": 57,
   "metadata": {
    "collapsed": false
   },
   "outputs": [
    {
     "data": {
      "text/plain": [
       "0.62499400029504659"
      ]
     },
     "execution_count": 57,
     "metadata": {},
     "output_type": "execute_result"
    }
   ],
   "source": [
    "xgboost_score.mean()"
   ]
  },
  {
   "cell_type": "code",
   "execution_count": 58,
   "metadata": {
    "collapsed": false
   },
   "outputs": [
    {
     "data": {
      "text/plain": [
       "XGBClassifier(base_score=0.5, booster='gbtree', colsample_bylevel=1,\n",
       "       colsample_bytree=0.5, gamma=0, learning_rate=0.05, max_delta_step=0,\n",
       "       max_depth=3, min_child_weight=1, missing=None, n_estimators=200,\n",
       "       n_jobs=-1, nthread=None, objective='binary:logistic',\n",
       "       random_state=0, reg_alpha=0, reg_lambda=1, scale_pos_weight=1,\n",
       "       seed=None, silent=True, subsample=1)"
      ]
     },
     "execution_count": 58,
     "metadata": {},
     "output_type": "execute_result"
    }
   ],
   "source": [
    "estimator.fit(data_train,y_train)"
   ]
  },
  {
   "cell_type": "code",
   "execution_count": 59,
   "metadata": {
    "collapsed": false
   },
   "outputs": [
    {
     "data": {
      "image/png": "[encoded data removed]",
      "text/plain": [
       "<matplotlib.figure.Figure at 0x7fb0db7d9b70>"
      ]
     },
     "metadata": {},
     "output_type": "display_data"
    }
   ],
   "source": [
    "plt.figure(figsize=(10,10))\n",
    "plot_importance(booster=estimator,max_num_features=20,ax=plt.gca(),importance_type='gain')\n",
    "plt.show()"
   ]
  },
  {
   "cell_type": "code",
   "execution_count": 60,
   "metadata": {
    "collapsed": false
   },
   "outputs": [
    {
     "data": {
      "text/plain": [
       "0.70890745449518855"
      ]
     },
     "execution_count": 60,
     "metadata": {},
     "output_type": "execute_result"
    }
   ],
   "source": [
    "roc_auc_score(y_true=y_train,y_score=estimator.predict_proba(data_train)[:,1])"
   ]
  },
  {
   "cell_type": "code",
   "execution_count": 61,
   "metadata": {
    "collapsed": true
   },
   "outputs": [],
   "source": [
    "(fpr_train,tpr_train,_) = roc_curve(y_true=y_train,y_score=estimator.predict_proba(data_train)[:,1])"
   ]
  },
  {
   "cell_type": "markdown",
   "metadata": {},
   "source": [
    "## Test data"
   ]
  },
  {
   "cell_type": "markdown",
   "metadata": {},
   "source": [
    "### Numeric"
   ]
  },
  {
   "cell_type": "code",
   "execution_count": 63,
   "metadata": {
    "collapsed": true
   },
   "outputs": [],
   "source": [
    "test_numerics = X_test.select_dtypes(include = ['number'])"
   ]
  },
  {
   "cell_type": "code",
   "execution_count": 64,
   "metadata": {
    "collapsed": true
   },
   "outputs": [],
   "source": [
    "test_numerics_proc = num_pipeline.transform(test_numerics)"
   ]
  },
  {
   "cell_type": "code",
   "execution_count": 65,
   "metadata": {
    "collapsed": true
   },
   "outputs": [],
   "source": [
    "test_num_proc = pd.DataFrame(test_numerics_proc,columns=accepted_col)"
   ]
  },
  {
   "cell_type": "code",
   "execution_count": 66,
   "metadata": {
    "collapsed": false
   },
   "outputs": [
    {
     "data": {
      "text/plain": [
       "(12532, 324)"
      ]
     },
     "execution_count": 66,
     "metadata": {},
     "output_type": "execute_result"
    }
   ],
   "source": [
    "test_num_proc.shape"
   ]
  },
  {
   "cell_type": "markdown",
   "metadata": {},
   "source": [
    "### Categorical"
   ]
  },
  {
   "cell_type": "code",
   "execution_count": 80,
   "metadata": {
    "collapsed": true
   },
   "outputs": [],
   "source": [
    "test_categorical = X_test.select_dtypes(exclude = ['number'])"
   ]
  },
  {
   "cell_type": "code",
   "execution_count": 81,
   "metadata": {
    "collapsed": false,
    "scrolled": true
   },
   "outputs": [],
   "source": [
    "test_cat_proc = cat_pipeline.transform(test_categorical)\n",
    "test_cat_proc = test_cat_proc.reset_index(drop=True)"
   ]
  },
  {
   "cell_type": "code",
   "execution_count": 82,
   "metadata": {
    "collapsed": false
   },
   "outputs": [
    {
     "data": {
      "text/html": [
       "<div>\n",
       "<table border=\"1\" class=\"dataframe\">\n",
       "  <thead>\n",
       "    <tr style=\"text-align: right;\">\n",
       "      <th></th>\n",
       "      <th>GENDER_A</th>\n",
       "      <th>GENDER_F</th>\n",
       "      <th>GENDER_J</th>\n",
       "      <th>GENDER_M</th>\n",
       "      <th>GENDER_U</th>\n",
       "      <th>MDMAUD_A_C</th>\n",
       "      <th>MDMAUD_A_L</th>\n",
       "      <th>MDMAUD_A_M</th>\n",
       "      <th>MDMAUD_A_T</th>\n",
       "      <th>MDMAUD_A_X</th>\n",
       "      <th>...</th>\n",
       "      <th>RFA_2A_F</th>\n",
       "      <th>RFA_2A_G</th>\n",
       "      <th>NOEXCH_0.0</th>\n",
       "      <th>NOEXCH_1.0</th>\n",
       "      <th>NOEXCH_X</th>\n",
       "      <th>MDMAUD_F_1</th>\n",
       "      <th>MDMAUD_F_2</th>\n",
       "      <th>MDMAUD_F_5</th>\n",
       "      <th>MDMAUD_F_X</th>\n",
       "      <th>RFA_2R_L</th>\n",
       "    </tr>\n",
       "  </thead>\n",
       "  <tbody>\n",
       "    <tr>\n",
       "      <th>0</th>\n",
       "      <td>0</td>\n",
       "      <td>1</td>\n",
       "      <td>0</td>\n",
       "      <td>0</td>\n",
       "      <td>0</td>\n",
       "      <td>0</td>\n",
       "      <td>0</td>\n",
       "      <td>0</td>\n",
       "      <td>0</td>\n",
       "      <td>1</td>\n",
       "      <td>...</td>\n",
       "      <td>0</td>\n",
       "      <td>1</td>\n",
       "      <td>1</td>\n",
       "      <td>0</td>\n",
       "      <td>0</td>\n",
       "      <td>0</td>\n",
       "      <td>0</td>\n",
       "      <td>0</td>\n",
       "      <td>1</td>\n",
       "      <td>1</td>\n",
       "    </tr>\n",
       "    <tr>\n",
       "      <th>1</th>\n",
       "      <td>0</td>\n",
       "      <td>1</td>\n",
       "      <td>0</td>\n",
       "      <td>0</td>\n",
       "      <td>0</td>\n",
       "      <td>0</td>\n",
       "      <td>0</td>\n",
       "      <td>0</td>\n",
       "      <td>0</td>\n",
       "      <td>1</td>\n",
       "      <td>...</td>\n",
       "      <td>0</td>\n",
       "      <td>1</td>\n",
       "      <td>1</td>\n",
       "      <td>0</td>\n",
       "      <td>0</td>\n",
       "      <td>0</td>\n",
       "      <td>0</td>\n",
       "      <td>0</td>\n",
       "      <td>1</td>\n",
       "      <td>1</td>\n",
       "    </tr>\n",
       "    <tr>\n",
       "      <th>2</th>\n",
       "      <td>0</td>\n",
       "      <td>1</td>\n",
       "      <td>0</td>\n",
       "      <td>0</td>\n",
       "      <td>0</td>\n",
       "      <td>0</td>\n",
       "      <td>0</td>\n",
       "      <td>0</td>\n",
       "      <td>0</td>\n",
       "      <td>1</td>\n",
       "      <td>...</td>\n",
       "      <td>1</td>\n",
       "      <td>0</td>\n",
       "      <td>1</td>\n",
       "      <td>0</td>\n",
       "      <td>0</td>\n",
       "      <td>0</td>\n",
       "      <td>0</td>\n",
       "      <td>0</td>\n",
       "      <td>1</td>\n",
       "      <td>1</td>\n",
       "    </tr>\n",
       "    <tr>\n",
       "      <th>3</th>\n",
       "      <td>0</td>\n",
       "      <td>0</td>\n",
       "      <td>0</td>\n",
       "      <td>1</td>\n",
       "      <td>0</td>\n",
       "      <td>0</td>\n",
       "      <td>0</td>\n",
       "      <td>0</td>\n",
       "      <td>0</td>\n",
       "      <td>1</td>\n",
       "      <td>...</td>\n",
       "      <td>1</td>\n",
       "      <td>0</td>\n",
       "      <td>1</td>\n",
       "      <td>0</td>\n",
       "      <td>0</td>\n",
       "      <td>0</td>\n",
       "      <td>0</td>\n",
       "      <td>0</td>\n",
       "      <td>1</td>\n",
       "      <td>1</td>\n",
       "    </tr>\n",
       "    <tr>\n",
       "      <th>4</th>\n",
       "      <td>0</td>\n",
       "      <td>0</td>\n",
       "      <td>0</td>\n",
       "      <td>1</td>\n",
       "      <td>0</td>\n",
       "      <td>0</td>\n",
       "      <td>0</td>\n",
       "      <td>0</td>\n",
       "      <td>0</td>\n",
       "      <td>1</td>\n",
       "      <td>...</td>\n",
       "      <td>1</td>\n",
       "      <td>0</td>\n",
       "      <td>1</td>\n",
       "      <td>0</td>\n",
       "      <td>0</td>\n",
       "      <td>0</td>\n",
       "      <td>0</td>\n",
       "      <td>0</td>\n",
       "      <td>1</td>\n",
       "      <td>1</td>\n",
       "    </tr>\n",
       "  </tbody>\n",
       "</table>\n",
       "<p>5 rows × 31 columns</p>\n",
       "</div>"
      ],
      "text/plain": [
       "   GENDER_A  GENDER_F  GENDER_J  GENDER_M  GENDER_U  MDMAUD_A_C  MDMAUD_A_L  \\\n",
       "0         0         1         0         0         0           0           0   \n",
       "1         0         1         0         0         0           0           0   \n",
       "2         0         1         0         0         0           0           0   \n",
       "3         0         0         0         1         0           0           0   \n",
       "4         0         0         0         1         0           0           0   \n",
       "\n",
       "   MDMAUD_A_M  MDMAUD_A_T  MDMAUD_A_X    ...     RFA_2A_F  RFA_2A_G  \\\n",
       "0           0           0           1    ...            0         1   \n",
       "1           0           0           1    ...            0         1   \n",
       "2           0           0           1    ...            1         0   \n",
       "3           0           0           1    ...            1         0   \n",
       "4           0           0           1    ...            1         0   \n",
       "\n",
       "   NOEXCH_0.0  NOEXCH_1.0  NOEXCH_X  MDMAUD_F_1  MDMAUD_F_2  MDMAUD_F_5  \\\n",
       "0           1           0         0           0           0           0   \n",
       "1           1           0         0           0           0           0   \n",
       "2           1           0         0           0           0           0   \n",
       "3           1           0         0           0           0           0   \n",
       "4           1           0         0           0           0           0   \n",
       "\n",
       "   MDMAUD_F_X  RFA_2R_L  \n",
       "0           1         1  \n",
       "1           1         1  \n",
       "2           1         1  \n",
       "3           1         1  \n",
       "4           1         1  \n",
       "\n",
       "[5 rows x 31 columns]"
      ]
     },
     "execution_count": 82,
     "metadata": {},
     "output_type": "execute_result"
    }
   ],
   "source": [
    "test_cat_proc.head()"
   ]
  },
  {
   "cell_type": "code",
   "execution_count": 83,
   "metadata": {
    "collapsed": false
   },
   "outputs": [
    {
     "data": {
      "text/plain": [
       "(12532, 31)"
      ]
     },
     "execution_count": 83,
     "metadata": {},
     "output_type": "execute_result"
    }
   ],
   "source": [
    "test_cat_proc.shape"
   ]
  },
  {
   "cell_type": "markdown",
   "metadata": {},
   "source": [
    "### Join test data"
   ]
  },
  {
   "cell_type": "code",
   "execution_count": 84,
   "metadata": {
    "collapsed": false
   },
   "outputs": [],
   "source": [
    "data_test = pd.concat([test_num_proc, test_cat_proc], axis=1)"
   ]
  },
  {
   "cell_type": "code",
   "execution_count": 85,
   "metadata": {
    "collapsed": false
   },
   "outputs": [
    {
     "data": {
      "text/html": [
       "<div>\n",
       "<table border=\"1\" class=\"dataframe\">\n",
       "  <thead>\n",
       "    <tr style=\"text-align: right;\">\n",
       "      <th></th>\n",
       "      <th>ODATEDW</th>\n",
       "      <th>TCODE</th>\n",
       "      <th>DOB</th>\n",
       "      <th>CLUSTER</th>\n",
       "      <th>HIT</th>\n",
       "      <th>MALEMILI</th>\n",
       "      <th>MALEVET</th>\n",
       "      <th>VIETVETS</th>\n",
       "      <th>WWIIVETS</th>\n",
       "      <th>LOCALGOV</th>\n",
       "      <th>...</th>\n",
       "      <th>LASTGIFT</th>\n",
       "      <th>LASTDATE</th>\n",
       "      <th>FISTDATE</th>\n",
       "      <th>NEXTDATE</th>\n",
       "      <th>TIMELAG</th>\n",
       "      <th>AVGGIFT</th>\n",
       "      <th>CONTROLN</th>\n",
       "      <th>HPHONE_D</th>\n",
       "      <th>RFA_2F</th>\n",
       "      <th>CLUSTER2</th>\n",
       "    </tr>\n",
       "  </thead>\n",
       "  <tbody>\n",
       "    <tr>\n",
       "      <th>0</th>\n",
       "      <td>0.583333</td>\n",
       "      <td>0.000000</td>\n",
       "      <td>0.000000</td>\n",
       "      <td>0.634615</td>\n",
       "      <td>0.004149</td>\n",
       "      <td>0.278351</td>\n",
       "      <td>0.444444</td>\n",
       "      <td>0.525253</td>\n",
       "      <td>0.191919</td>\n",
       "      <td>0.084507</td>\n",
       "      <td>...</td>\n",
       "      <td>0.056838</td>\n",
       "      <td>0.005025</td>\n",
       "      <td>0.959075</td>\n",
       "      <td>0.790832</td>\n",
       "      <td>0.006434</td>\n",
       "      <td>0.026092</td>\n",
       "      <td>0.593177</td>\n",
       "      <td>1.0</td>\n",
       "      <td>0.0</td>\n",
       "      <td>0.590164</td>\n",
       "    </tr>\n",
       "    <tr>\n",
       "      <th>1</th>\n",
       "      <td>0.250000</td>\n",
       "      <td>0.000000</td>\n",
       "      <td>0.413061</td>\n",
       "      <td>0.519231</td>\n",
       "      <td>0.049793</td>\n",
       "      <td>0.000000</td>\n",
       "      <td>0.373737</td>\n",
       "      <td>0.171717</td>\n",
       "      <td>0.575758</td>\n",
       "      <td>0.042254</td>\n",
       "      <td>...</td>\n",
       "      <td>0.044405</td>\n",
       "      <td>0.502513</td>\n",
       "      <td>0.917318</td>\n",
       "      <td>0.634352</td>\n",
       "      <td>0.021140</td>\n",
       "      <td>0.015745</td>\n",
       "      <td>0.159599</td>\n",
       "      <td>1.0</td>\n",
       "      <td>0.0</td>\n",
       "      <td>0.557377</td>\n",
       "    </tr>\n",
       "    <tr>\n",
       "      <th>2</th>\n",
       "      <td>0.833333</td>\n",
       "      <td>0.000389</td>\n",
       "      <td>0.463638</td>\n",
       "      <td>0.750000</td>\n",
       "      <td>0.004149</td>\n",
       "      <td>0.051546</td>\n",
       "      <td>0.353535</td>\n",
       "      <td>0.333333</td>\n",
       "      <td>0.505051</td>\n",
       "      <td>0.098592</td>\n",
       "      <td>...</td>\n",
       "      <td>0.035524</td>\n",
       "      <td>0.040201</td>\n",
       "      <td>0.990420</td>\n",
       "      <td>0.709714</td>\n",
       "      <td>0.007417</td>\n",
       "      <td>0.019757</td>\n",
       "      <td>0.656950</td>\n",
       "      <td>0.0</td>\n",
       "      <td>0.0</td>\n",
       "      <td>0.590164</td>\n",
       "    </tr>\n",
       "    <tr>\n",
       "      <th>3</th>\n",
       "      <td>0.500000</td>\n",
       "      <td>0.000014</td>\n",
       "      <td>0.567161</td>\n",
       "      <td>0.173077</td>\n",
       "      <td>0.000000</td>\n",
       "      <td>0.000000</td>\n",
       "      <td>0.141414</td>\n",
       "      <td>0.191919</td>\n",
       "      <td>0.242424</td>\n",
       "      <td>0.042254</td>\n",
       "      <td>...</td>\n",
       "      <td>0.035524</td>\n",
       "      <td>0.492462</td>\n",
       "      <td>0.947829</td>\n",
       "      <td>0.688620</td>\n",
       "      <td>0.008272</td>\n",
       "      <td>0.012543</td>\n",
       "      <td>0.749439</td>\n",
       "      <td>0.0</td>\n",
       "      <td>0.0</td>\n",
       "      <td>0.737705</td>\n",
       "    </tr>\n",
       "    <tr>\n",
       "      <th>4</th>\n",
       "      <td>0.916667</td>\n",
       "      <td>0.000014</td>\n",
       "      <td>0.134013</td>\n",
       "      <td>0.500000</td>\n",
       "      <td>0.000000</td>\n",
       "      <td>0.000000</td>\n",
       "      <td>0.363636</td>\n",
       "      <td>0.373737</td>\n",
       "      <td>0.272727</td>\n",
       "      <td>0.098592</td>\n",
       "      <td>...</td>\n",
       "      <td>0.035524</td>\n",
       "      <td>0.492462</td>\n",
       "      <td>0.999792</td>\n",
       "      <td>0.709714</td>\n",
       "      <td>0.007417</td>\n",
       "      <td>0.019757</td>\n",
       "      <td>0.942954</td>\n",
       "      <td>1.0</td>\n",
       "      <td>0.0</td>\n",
       "      <td>0.557377</td>\n",
       "    </tr>\n",
       "  </tbody>\n",
       "</table>\n",
       "<p>5 rows × 324 columns</p>\n",
       "</div>"
      ],
      "text/plain": [
       "    ODATEDW     TCODE       DOB   CLUSTER       HIT  MALEMILI   MALEVET  \\\n",
       "0  0.583333  0.000000  0.000000  0.634615  0.004149  0.278351  0.444444   \n",
       "1  0.250000  0.000000  0.413061  0.519231  0.049793  0.000000  0.373737   \n",
       "2  0.833333  0.000389  0.463638  0.750000  0.004149  0.051546  0.353535   \n",
       "3  0.500000  0.000014  0.567161  0.173077  0.000000  0.000000  0.141414   \n",
       "4  0.916667  0.000014  0.134013  0.500000  0.000000  0.000000  0.363636   \n",
       "\n",
       "   VIETVETS  WWIIVETS  LOCALGOV    ...     LASTGIFT  LASTDATE  FISTDATE  \\\n",
       "0  0.525253  0.191919  0.084507    ...     0.056838  0.005025  0.959075   \n",
       "1  0.171717  0.575758  0.042254    ...     0.044405  0.502513  0.917318   \n",
       "2  0.333333  0.505051  0.098592    ...     0.035524  0.040201  0.990420   \n",
       "3  0.191919  0.242424  0.042254    ...     0.035524  0.492462  0.947829   \n",
       "4  0.373737  0.272727  0.098592    ...     0.035524  0.492462  0.999792   \n",
       "\n",
       "   NEXTDATE   TIMELAG   AVGGIFT  CONTROLN  HPHONE_D  RFA_2F  CLUSTER2  \n",
       "0  0.790832  0.006434  0.026092  0.593177       1.0     0.0  0.590164  \n",
       "1  0.634352  0.021140  0.015745  0.159599       1.0     0.0  0.557377  \n",
       "2  0.709714  0.007417  0.019757  0.656950       0.0     0.0  0.590164  \n",
       "3  0.688620  0.008272  0.012543  0.749439       0.0     0.0  0.737705  \n",
       "4  0.709714  0.007417  0.019757  0.942954       1.0     0.0  0.557377  \n",
       "\n",
       "[5 rows x 324 columns]"
      ]
     },
     "execution_count": 85,
     "metadata": {},
     "output_type": "execute_result"
    }
   ],
   "source": [
    "test_num_proc.head()"
   ]
  },
  {
   "cell_type": "code",
   "execution_count": 87,
   "metadata": {
    "collapsed": false
   },
   "outputs": [
    {
     "data": {
      "text/plain": [
       "(12532, 355)"
      ]
     },
     "execution_count": 87,
     "metadata": {},
     "output_type": "execute_result"
    }
   ],
   "source": [
    "data_test.shape"
   ]
  },
  {
   "cell_type": "code",
   "execution_count": 88,
   "metadata": {
    "collapsed": false
   },
   "outputs": [
    {
     "data": {
      "text/plain": [
       "(12532, 324)"
      ]
     },
     "execution_count": 88,
     "metadata": {},
     "output_type": "execute_result"
    }
   ],
   "source": [
    "test_num_proc.shape"
   ]
  },
  {
   "cell_type": "code",
   "execution_count": 89,
   "metadata": {
    "collapsed": false
   },
   "outputs": [
    {
     "data": {
      "text/plain": [
       "(12532, 31)"
      ]
     },
     "execution_count": 89,
     "metadata": {},
     "output_type": "execute_result"
    }
   ],
   "source": [
    "test_cat_proc.shape"
   ]
  },
  {
   "cell_type": "code",
   "execution_count": 90,
   "metadata": {
    "collapsed": false
   },
   "outputs": [
    {
     "data": {
      "text/plain": [
       "(12532,)"
      ]
     },
     "execution_count": 90,
     "metadata": {},
     "output_type": "execute_result"
    }
   ],
   "source": [
    "y_test.shape"
   ]
  },
  {
   "cell_type": "markdown",
   "metadata": {},
   "source": [
    "### Check result on test dataset"
   ]
  },
  {
   "cell_type": "code",
   "execution_count": 91,
   "metadata": {
    "collapsed": false
   },
   "outputs": [
    {
     "data": {
      "text/plain": [
       "0.61883271874910672"
      ]
     },
     "execution_count": 91,
     "metadata": {},
     "output_type": "execute_result"
    }
   ],
   "source": [
    "roc_auc_score(y_true=y_test,y_score=estimator.predict_proba(data_test)[:,1])"
   ]
  },
  {
   "cell_type": "code",
   "execution_count": 92,
   "metadata": {
    "collapsed": true
   },
   "outputs": [],
   "source": [
    "(fpr_test,tpr_test,_) = roc_curve(y_true=y_test,y_score=estimator.predict_proba(data_test)[:,1])"
   ]
  },
  {
   "cell_type": "code",
   "execution_count": 96,
   "metadata": {
    "collapsed": false
   },
   "outputs": [
    {
     "data": {
      "image/png": "[encoded data removed]",
      "text/plain": [
       "<matplotlib.figure.Figure at 0x7fb0bb4c0940>"
      ]
     },
     "metadata": {},
     "output_type": "display_data"
    }
   ],
   "source": [
    "plt.figure(figsize=(7,7))\n",
    "plt.plot(fpr_train,tpr_train,label='train')\n",
    "plt.plot(fpr_test,tpr_test,label='test')\n",
    "plt.legend()\n",
    "plt.show()"
   ]
  },
  {
   "cell_type": "code",
   "execution_count": null,
   "metadata": {
    "collapsed": true
   },
   "outputs": [],
   "source": []
  },
  {
   "cell_type": "code",
   "execution_count": null,
   "metadata": {
    "collapsed": true
   },
   "outputs": [],
   "source": []
  },
  {
   "cell_type": "code",
   "execution_count": null,
   "metadata": {
    "collapsed": true
   },
   "outputs": [],
   "source": [
    "from sklearn.pipeline import FeatureUnion"
   ]
  },
  {
   "cell_type": "code",
   "execution_count": null,
   "metadata": {
    "collapsed": true
   },
   "outputs": [],
   "source": []
  }
 ],
 "metadata": {
  "kernelspec": {
   "display_name": "Python 3",
   "language": "python",
   "name": "python3"
  },
  "language_info": {
   "codemirror_mode": {
    "name": "ipython",
    "version": 3
   },
   "file_extension": ".py",
   "mimetype": "text/x-python",
   "name": "python",
   "nbconvert_exporter": "python",
   "pygments_lexer": "ipython3",
   "version": "3.6.0"
  }
 },
 "nbformat": 4,
 "nbformat_minor": 2
}
